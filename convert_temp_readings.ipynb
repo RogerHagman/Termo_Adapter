{
 "cells": [
  {
   "cell_type": "code",
   "execution_count": 16,
   "metadata": {},
   "outputs": [],
   "source": [
    "# https://pola-rs.github.io/polars/\n",
    "\n",
    "import polars as po\n",
    "from temperature_converter import TemperatureConverter"
   ]
  },
  {
   "cell_type": "code",
   "execution_count": 17,
   "metadata": {},
   "outputs": [],
   "source": [
    "# Loading the data\n",
    "df = po.read_csv(\"thermometry.csv\")"
   ]
  },
  {
   "cell_type": "code",
   "execution_count": 18,
   "metadata": {},
   "outputs": [],
   "source": [
    "# Instantiate a converter and process temperatures\n",
    "converter = TemperatureConverter(df)\n",
    "df_celsius = converter.convert_to_celsius('body.temp')"
   ]
  },
  {
   "cell_type": "code",
   "execution_count": 19,
   "metadata": {},
   "outputs": [
    {
     "name": "stdout",
     "output_type": "stream",
     "text": [
      "shape: (130, 4)\n",
      "┌───────────┬────────┬────────────┬───────────────┐\n",
      "│ body.temp ┆ gender ┆ heart.rate ┆ Temperature_C │\n",
      "│ ---       ┆ ---    ┆ ---        ┆ ---           │\n",
      "│ f64       ┆ str    ┆ i64        ┆ f64           │\n",
      "╞═══════════╪════════╪════════════╪═══════════════╡\n",
      "│ 96.3      ┆ male   ┆ 70         ┆ 35.722222     │\n",
      "│ 96.7      ┆ male   ┆ 71         ┆ 35.944444     │\n",
      "│ 96.9      ┆ male   ┆ 74         ┆ 36.055556     │\n",
      "│ 97.0      ┆ male   ┆ 80         ┆ 36.111111     │\n",
      "│ …         ┆ …      ┆ …          ┆ …             │\n",
      "│ 99.4      ┆ female ┆ 77         ┆ 37.444444     │\n",
      "│ 99.9      ┆ female ┆ 79         ┆ 37.722222     │\n",
      "│ 100.0     ┆ female ┆ 78         ┆ 37.777778     │\n",
      "│ 100.8     ┆ female ┆ 77         ┆ 38.222222     │\n",
      "└───────────┴────────┴────────────┴───────────────┘\n"
     ]
    }
   ],
   "source": [
    "# Displaying a Polars DataFrame\n",
    "print(df_celsius)"
   ]
  },
  {
   "cell_type": "code",
   "execution_count": 20,
   "metadata": {},
   "outputs": [
    {
     "data": {
      "text/html": [
       "<div><style>\n",
       ".dataframe > thead > tr > th,\n",
       ".dataframe > tbody > tr > td {\n",
       "  text-align: right;\n",
       "  white-space: pre-wrap;\n",
       "}\n",
       "</style>\n",
       "<small>shape: (130, 4)</small><table border=\"1\" class=\"dataframe\"><thead><tr><th>body.temp</th><th>gender</th><th>heart.rate</th><th>Temperature_C</th></tr><tr><td>f64</td><td>str</td><td>i64</td><td>f64</td></tr></thead><tbody><tr><td>96.3</td><td>&quot;male&quot;</td><td>70</td><td>35.722222</td></tr><tr><td>96.7</td><td>&quot;male&quot;</td><td>71</td><td>35.944444</td></tr><tr><td>96.9</td><td>&quot;male&quot;</td><td>74</td><td>36.055556</td></tr><tr><td>97.0</td><td>&quot;male&quot;</td><td>80</td><td>36.111111</td></tr><tr><td>97.1</td><td>&quot;male&quot;</td><td>73</td><td>36.166667</td></tr><tr><td>97.1</td><td>&quot;male&quot;</td><td>75</td><td>36.166667</td></tr><tr><td>97.1</td><td>&quot;male&quot;</td><td>82</td><td>36.166667</td></tr><tr><td>97.2</td><td>&quot;male&quot;</td><td>64</td><td>36.222222</td></tr><tr><td>97.3</td><td>&quot;male&quot;</td><td>69</td><td>36.277778</td></tr><tr><td>97.4</td><td>&quot;male&quot;</td><td>70</td><td>36.333333</td></tr><tr><td>97.4</td><td>&quot;male&quot;</td><td>68</td><td>36.333333</td></tr><tr><td>97.4</td><td>&quot;male&quot;</td><td>72</td><td>36.333333</td></tr><tr><td>&hellip;</td><td>&hellip;</td><td>&hellip;</td><td>&hellip;</td></tr><tr><td>98.9</td><td>&quot;female&quot;</td><td>76</td><td>37.166667</td></tr><tr><td>99.0</td><td>&quot;female&quot;</td><td>79</td><td>37.222222</td></tr><tr><td>99.0</td><td>&quot;female&quot;</td><td>81</td><td>37.222222</td></tr><tr><td>99.1</td><td>&quot;female&quot;</td><td>80</td><td>37.277778</td></tr><tr><td>99.1</td><td>&quot;female&quot;</td><td>74</td><td>37.277778</td></tr><tr><td>99.2</td><td>&quot;female&quot;</td><td>77</td><td>37.333333</td></tr><tr><td>99.2</td><td>&quot;female&quot;</td><td>66</td><td>37.333333</td></tr><tr><td>99.3</td><td>&quot;female&quot;</td><td>68</td><td>37.388889</td></tr><tr><td>99.4</td><td>&quot;female&quot;</td><td>77</td><td>37.444444</td></tr><tr><td>99.9</td><td>&quot;female&quot;</td><td>79</td><td>37.722222</td></tr><tr><td>100.0</td><td>&quot;female&quot;</td><td>78</td><td>37.777778</td></tr><tr><td>100.8</td><td>&quot;female&quot;</td><td>77</td><td>38.222222</td></tr></tbody></table></div>"
      ],
      "text/plain": [
       "shape: (130, 4)\n",
       "┌───────────┬────────┬────────────┬───────────────┐\n",
       "│ body.temp ┆ gender ┆ heart.rate ┆ Temperature_C │\n",
       "│ ---       ┆ ---    ┆ ---        ┆ ---           │\n",
       "│ f64       ┆ str    ┆ i64        ┆ f64           │\n",
       "╞═══════════╪════════╪════════════╪═══════════════╡\n",
       "│ 96.3      ┆ male   ┆ 70         ┆ 35.722222     │\n",
       "│ 96.7      ┆ male   ┆ 71         ┆ 35.944444     │\n",
       "│ 96.9      ┆ male   ┆ 74         ┆ 36.055556     │\n",
       "│ 97.0      ┆ male   ┆ 80         ┆ 36.111111     │\n",
       "│ …         ┆ …      ┆ …          ┆ …             │\n",
       "│ 99.4      ┆ female ┆ 77         ┆ 37.444444     │\n",
       "│ 99.9      ┆ female ┆ 79         ┆ 37.722222     │\n",
       "│ 100.0     ┆ female ┆ 78         ┆ 37.777778     │\n",
       "│ 100.8     ┆ female ┆ 77         ┆ 38.222222     │\n",
       "└───────────┴────────┴────────────┴───────────────┘"
      ]
     },
     "execution_count": 20,
     "metadata": {},
     "output_type": "execute_result"
    }
   ],
   "source": [
    "df_celsius"
   ]
  }
 ],
 "metadata": {
  "kernelspec": {
   "display_name": "venv",
   "language": "python",
   "name": "python3"
  },
  "language_info": {
   "codemirror_mode": {
    "name": "ipython",
    "version": 3
   },
   "file_extension": ".py",
   "mimetype": "text/x-python",
   "name": "python",
   "nbconvert_exporter": "python",
   "pygments_lexer": "ipython3",
   "version": "3.10.11"
  }
 },
 "nbformat": 4,
 "nbformat_minor": 2
}
