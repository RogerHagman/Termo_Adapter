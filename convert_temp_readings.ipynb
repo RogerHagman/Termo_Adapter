{
 "cells": [
  {
   "cell_type": "code",
   "execution_count": 1,
   "metadata": {},
   "outputs": [],
   "source": [
    "import polars as po\n",
    "from temperature_converter import TemperatureConverter"
   ]
  },
  {
   "cell_type": "code",
   "execution_count": 2,
   "metadata": {},
   "outputs": [],
   "source": [
    "# Loading the data\n",
    "df = po.read_csv(\"thermometry.csv\")"
   ]
  },
  {
   "cell_type": "code",
   "execution_count": 3,
   "metadata": {},
   "outputs": [],
   "source": [
    "# Instantiate the converter and convert the temperatures\n",
    "converter = TemperatureConverter(df)\n",
    "df_celsius = converter.convert_to_celsius('body.temp')"
   ]
  },
  {
   "cell_type": "code",
   "execution_count": 4,
   "metadata": {},
   "outputs": [
    {
     "name": "stdout",
     "output_type": "stream",
     "text": [
      "shape: (130, 4)\n",
      "┌───────────┬────────┬────────────┬───────────────┐\n",
      "│ body.temp ┆ gender ┆ heart.rate ┆ Temperature_C │\n",
      "│ ---       ┆ ---    ┆ ---        ┆ ---           │\n",
      "│ f64       ┆ str    ┆ i64        ┆ f64           │\n",
      "╞═══════════╪════════╪════════════╪═══════════════╡\n",
      "│ 96.3      ┆ male   ┆ 70         ┆ 35.722222     │\n",
      "│ 96.7      ┆ male   ┆ 71         ┆ 35.944444     │\n",
      "│ 96.9      ┆ male   ┆ 74         ┆ 36.055556     │\n",
      "│ 97.0      ┆ male   ┆ 80         ┆ 36.111111     │\n",
      "│ …         ┆ …      ┆ …          ┆ …             │\n",
      "│ 99.4      ┆ female ┆ 77         ┆ 37.444444     │\n",
      "│ 99.9      ┆ female ┆ 79         ┆ 37.722222     │\n",
      "│ 100.0     ┆ female ┆ 78         ┆ 37.777778     │\n",
      "│ 100.8     ┆ female ┆ 77         ┆ 38.222222     │\n",
      "└───────────┴────────┴────────────┴───────────────┘\n"
     ]
    }
   ],
   "source": [
    "# Displaying the DataFrame\n",
    "print(df_celsius)"
   ]
  }
 ],
 "metadata": {
  "kernelspec": {
   "display_name": "venv",
   "language": "python",
   "name": "python3"
  },
  "language_info": {
   "codemirror_mode": {
    "name": "ipython",
    "version": 3
   },
   "file_extension": ".py",
   "mimetype": "text/x-python",
   "name": "python",
   "nbconvert_exporter": "python",
   "pygments_lexer": "ipython3",
   "version": "3.10.11"
  }
 },
 "nbformat": 4,
 "nbformat_minor": 2
}
